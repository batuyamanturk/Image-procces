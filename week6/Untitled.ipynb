{
 "cells": [
  {
   "cell_type": "code",
   "execution_count": 4,
   "id": "94d6c89f",
   "metadata": {
    "scrolled": true
   },
   "outputs": [],
   "source": [
    "import cv2\n",
    "import numpy as np\n",
    "\n",
    "image=cv2.imread('mountain.jpg')\n",
    "\n",
    "kernel1 = np.ones((5, 5), np.float32)/30\n",
    "\n",
    "img = cv2.filter2D(src=image, ddepth=-1, kernel=kernel1)\n",
    "\n",
    "cv2.imshow('Original',image)\n",
    "cv2.imshow('Kernel Blur',img)\n",
    "\n",
    "cv2.waitKey()\n",
    "cv2.destroyAllWindows()"
   ]
  },
  {
   "cell_type": "code",
   "execution_count": 5,
   "id": "29d4d7c6",
   "metadata": {},
   "outputs": [
    {
     "data": {
      "text/plain": [
       "-1"
      ]
     },
     "execution_count": 5,
     "metadata": {},
     "output_type": "execute_result"
    }
   ],
   "source": [
    "import cv2\n",
    "import numpy as np\n",
    "\n",
    "path = r'salad.jpg'\n",
    "\n",
    "img = cv2.imread(path)\n",
    "\n",
    "im1 = cv2.blur(img,(5,5))\n",
    "im2 = cv2.boxFilter(img,-1,(2,2),normalize=True)\n",
    "\n",
    "cv2.imshow('image',np.hstack((im1,im2)))\n",
    "cv2.waitKey(0);\n",
    "cv2.destroyAllWindows();\n",
    "cv2.waitKey(1)"
   ]
  },
  {
   "cell_type": "code",
   "execution_count": 6,
   "id": "900a6c91",
   "metadata": {},
   "outputs": [
    {
     "data": {
      "text/plain": [
       "<function destroyAllWindows>"
      ]
     },
     "execution_count": 6,
     "metadata": {},
     "output_type": "execute_result"
    }
   ],
   "source": [
    "import cv2\n",
    "import numpy as np\n",
    "\n",
    "img = cv2.imread('hand.jpg')\n",
    "median = cv2.medianBlur(img,5)\n",
    "compare = np.concatenate((img, median),axis=1)\n",
    "\n",
    "cv2.imshow('img',compare)\n",
    "cv2.waitKey(0)\n",
    "cv2.destroyAllWindows"
   ]
  },
  {
   "cell_type": "code",
   "execution_count": 8,
   "id": "51493e76",
   "metadata": {},
   "outputs": [],
   "source": [
    "import sys\n",
    "import cv2 as cv\n",
    "\n",
    "def main(argv):\n",
    "    ddepth = cv.CV_16S\n",
    "    kernel_size=3\n",
    "    window_name = \"Laplace Demo\"\n",
    "    \n",
    "    imageName = argv[0] if len(argv) > 0 else 'lena.jpg'\n",
    "    \n",
    "    src = cv.imread(cv.samples.findFile(imageName), cv.IMREAD_COLOR)\n",
    "    \n",
    "    if src is None:\n",
    "        print('Error opening image')\n",
    "        print('Program Arguments:[image_name -- default lena.jpg]')\n",
    "        return -1\n",
    "    src = cv.GaussianBlur(src,(3,3),0)\n",
    "    src_gray = cv.cvtColor(src, cv.COLOR_BGR2GRAY)\n",
    "    cv.namedWindow(window_name, cv.WINDOW_AUTOSIZE)\n",
    "    dst = cv.Laplacian(src_gray,ddepth, ksize=kernel_size)\n",
    "    abs_dst = cv.convertScaleAbs(dst)\n",
    "    cv.imshow(window_name,abs_dst)\n",
    "    cv.waitKey(0)\n",
    "    return 0\n",
    "if __name__ == \"__main__\":\n",
    "    main(sys.argv[1:1])"
   ]
  },
  {
   "cell_type": "code",
   "execution_count": null,
   "id": "aa35dc5e",
   "metadata": {},
   "outputs": [],
   "source": []
  }
 ],
 "metadata": {
  "kernelspec": {
   "display_name": "Python 3 (ipykernel)",
   "language": "python",
   "name": "python3"
  },
  "language_info": {
   "codemirror_mode": {
    "name": "ipython",
    "version": 3
   },
   "file_extension": ".py",
   "mimetype": "text/x-python",
   "name": "python",
   "nbconvert_exporter": "python",
   "pygments_lexer": "ipython3",
   "version": "3.9.13"
  }
 },
 "nbformat": 4,
 "nbformat_minor": 5
}
